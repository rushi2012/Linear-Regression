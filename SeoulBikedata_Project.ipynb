{
  "nbformat": 4,
  "nbformat_minor": 0,
  "metadata": {
    "colab": {
      "name": "SeoulBikedata_Project.ipynb",
      "provenance": [],
      "collapsed_sections": [],
      "authorship_tag": "ABX9TyP/nJ52vwDm+vndMkgR3Nm6",
      "include_colab_link": true
    },
    "kernelspec": {
      "name": "python3",
      "display_name": "Python 3"
    },
    "language_info": {
      "name": "python"
    }
  },
  "cells": [
    {
      "cell_type": "markdown",
      "metadata": {
        "id": "view-in-github",
        "colab_type": "text"
      },
      "source": [
        "<a href=\"https://colab.research.google.com/github/rushi2012/Linear-Regression/blob/main/SeoulBikedata_Project.ipynb\" target=\"_parent\"><img src=\"https://colab.research.google.com/assets/colab-badge.svg\" alt=\"Open In Colab\"/></a>"
      ]
    },
    {
      "cell_type": "code",
      "metadata": {
        "id": "n-u9L55-aFNT"
      },
      "source": [
        "#Importing Libraries\n",
        "\n",
        "import pandas as pd\n",
        "import numpy as np\n",
        "import warnings \n",
        "warnings.filterwarnings('ignore')\n",
        "import matplotlib.pyplot as plt\n",
        "import seaborn as sns\n"
      ],
      "execution_count": 226,
      "outputs": []
    },
    {
      "cell_type": "code",
      "metadata": {
        "colab": {
          "base_uri": "https://localhost:8080/",
          "height": 347
        },
        "id": "UPaEePqdapwz",
        "outputId": "2561589e-dc2f-416a-919a-ce0223c330d2"
      },
      "source": [
        "#Import CSV file\n",
        "SeoulBikeData = pd.read_csv('/content/SeoulBikeData.csv')\n",
        "SeoulBikeData.head()"
      ],
      "execution_count": 227,
      "outputs": [
        {
          "output_type": "execute_result",
          "data": {
            "text/html": [
              "<div>\n",
              "<style scoped>\n",
              "    .dataframe tbody tr th:only-of-type {\n",
              "        vertical-align: middle;\n",
              "    }\n",
              "\n",
              "    .dataframe tbody tr th {\n",
              "        vertical-align: top;\n",
              "    }\n",
              "\n",
              "    .dataframe thead th {\n",
              "        text-align: right;\n",
              "    }\n",
              "</style>\n",
              "<table border=\"1\" class=\"dataframe\">\n",
              "  <thead>\n",
              "    <tr style=\"text-align: right;\">\n",
              "      <th></th>\n",
              "      <th>Date</th>\n",
              "      <th>Rented Bike Count</th>\n",
              "      <th>Hour</th>\n",
              "      <th>Temperature(C)</th>\n",
              "      <th>Humidity(%)</th>\n",
              "      <th>Wind speed (m/s)</th>\n",
              "      <th>Visibility (10m)</th>\n",
              "      <th>Dew point temperature(C)</th>\n",
              "      <th>Solar Radiation (MJ/m2)</th>\n",
              "      <th>Rainfall(mm)</th>\n",
              "      <th>Snowfall (cm)</th>\n",
              "      <th>Seasons</th>\n",
              "      <th>Holiday</th>\n",
              "      <th>Functioning Day</th>\n",
              "    </tr>\n",
              "  </thead>\n",
              "  <tbody>\n",
              "    <tr>\n",
              "      <th>0</th>\n",
              "      <td>01/12/2017</td>\n",
              "      <td>254</td>\n",
              "      <td>0</td>\n",
              "      <td>-5.2</td>\n",
              "      <td>37</td>\n",
              "      <td>2.2</td>\n",
              "      <td>2000</td>\n",
              "      <td>-17.6</td>\n",
              "      <td>0.0</td>\n",
              "      <td>0.0</td>\n",
              "      <td>0.0</td>\n",
              "      <td>Winter</td>\n",
              "      <td>No Holiday</td>\n",
              "      <td>Yes</td>\n",
              "    </tr>\n",
              "    <tr>\n",
              "      <th>1</th>\n",
              "      <td>01/12/2017</td>\n",
              "      <td>204</td>\n",
              "      <td>1</td>\n",
              "      <td>-5.5</td>\n",
              "      <td>38</td>\n",
              "      <td>0.8</td>\n",
              "      <td>2000</td>\n",
              "      <td>-17.6</td>\n",
              "      <td>0.0</td>\n",
              "      <td>0.0</td>\n",
              "      <td>0.0</td>\n",
              "      <td>Winter</td>\n",
              "      <td>No Holiday</td>\n",
              "      <td>Yes</td>\n",
              "    </tr>\n",
              "    <tr>\n",
              "      <th>2</th>\n",
              "      <td>01/12/2017</td>\n",
              "      <td>173</td>\n",
              "      <td>2</td>\n",
              "      <td>-6.0</td>\n",
              "      <td>39</td>\n",
              "      <td>1.0</td>\n",
              "      <td>2000</td>\n",
              "      <td>-17.7</td>\n",
              "      <td>0.0</td>\n",
              "      <td>0.0</td>\n",
              "      <td>0.0</td>\n",
              "      <td>Winter</td>\n",
              "      <td>No Holiday</td>\n",
              "      <td>Yes</td>\n",
              "    </tr>\n",
              "    <tr>\n",
              "      <th>3</th>\n",
              "      <td>01/12/2017</td>\n",
              "      <td>107</td>\n",
              "      <td>3</td>\n",
              "      <td>-6.2</td>\n",
              "      <td>40</td>\n",
              "      <td>0.9</td>\n",
              "      <td>2000</td>\n",
              "      <td>-17.6</td>\n",
              "      <td>0.0</td>\n",
              "      <td>0.0</td>\n",
              "      <td>0.0</td>\n",
              "      <td>Winter</td>\n",
              "      <td>No Holiday</td>\n",
              "      <td>Yes</td>\n",
              "    </tr>\n",
              "    <tr>\n",
              "      <th>4</th>\n",
              "      <td>01/12/2017</td>\n",
              "      <td>78</td>\n",
              "      <td>4</td>\n",
              "      <td>-6.0</td>\n",
              "      <td>36</td>\n",
              "      <td>2.3</td>\n",
              "      <td>2000</td>\n",
              "      <td>-18.6</td>\n",
              "      <td>0.0</td>\n",
              "      <td>0.0</td>\n",
              "      <td>0.0</td>\n",
              "      <td>Winter</td>\n",
              "      <td>No Holiday</td>\n",
              "      <td>Yes</td>\n",
              "    </tr>\n",
              "  </tbody>\n",
              "</table>\n",
              "</div>"
            ],
            "text/plain": [
              "         Date  Rented Bike Count  Hour  ...  Seasons     Holiday  Functioning Day\n",
              "0  01/12/2017                254     0  ...   Winter  No Holiday              Yes\n",
              "1  01/12/2017                204     1  ...   Winter  No Holiday              Yes\n",
              "2  01/12/2017                173     2  ...   Winter  No Holiday              Yes\n",
              "3  01/12/2017                107     3  ...   Winter  No Holiday              Yes\n",
              "4  01/12/2017                 78     4  ...   Winter  No Holiday              Yes\n",
              "\n",
              "[5 rows x 14 columns]"
            ]
          },
          "metadata": {},
          "execution_count": 227
        }
      ]
    },
    {
      "cell_type": "code",
      "metadata": {
        "colab": {
          "base_uri": "https://localhost:8080/"
        },
        "id": "TiiAESOiLUV1",
        "outputId": "38f8d354-e296-4fc0-d39f-e24ae4ce904c"
      },
      "source": [
        "# Details\n",
        "SeoulBikeData.info()"
      ],
      "execution_count": 228,
      "outputs": [
        {
          "output_type": "stream",
          "name": "stdout",
          "text": [
            "<class 'pandas.core.frame.DataFrame'>\n",
            "RangeIndex: 8760 entries, 0 to 8759\n",
            "Data columns (total 14 columns):\n",
            " #   Column                    Non-Null Count  Dtype  \n",
            "---  ------                    --------------  -----  \n",
            " 0   Date                      8760 non-null   object \n",
            " 1   Rented Bike Count         8760 non-null   int64  \n",
            " 2   Hour                      8760 non-null   int64  \n",
            " 3   Temperature(C)            8760 non-null   float64\n",
            " 4   Humidity(%)               8760 non-null   int64  \n",
            " 5   Wind speed (m/s)          8760 non-null   float64\n",
            " 6   Visibility (10m)          8760 non-null   int64  \n",
            " 7   Dew point temperature(C)  8760 non-null   float64\n",
            " 8   Solar Radiation (MJ/m2)   8760 non-null   float64\n",
            " 9   Rainfall(mm)              8760 non-null   float64\n",
            " 10  Snowfall (cm)             8760 non-null   float64\n",
            " 11  Seasons                   8760 non-null   object \n",
            " 12  Holiday                   8760 non-null   object \n",
            " 13  Functioning Day           8760 non-null   object \n",
            "dtypes: float64(6), int64(4), object(4)\n",
            "memory usage: 958.2+ KB\n"
          ]
        }
      ]
    },
    {
      "cell_type": "code",
      "metadata": {
        "id": "kbUJ2OUFc-Nu",
        "colab": {
          "base_uri": "https://localhost:8080/",
          "height": 347
        },
        "outputId": "4b2fc6ef-43bd-41dd-c824-3c1e8134d30a"
      },
      "source": [
        "# Dataframe Head\n",
        "sbd = SeoulBikeData\n",
        "sbd.head()"
      ],
      "execution_count": 229,
      "outputs": [
        {
          "output_type": "execute_result",
          "data": {
            "text/html": [
              "<div>\n",
              "<style scoped>\n",
              "    .dataframe tbody tr th:only-of-type {\n",
              "        vertical-align: middle;\n",
              "    }\n",
              "\n",
              "    .dataframe tbody tr th {\n",
              "        vertical-align: top;\n",
              "    }\n",
              "\n",
              "    .dataframe thead th {\n",
              "        text-align: right;\n",
              "    }\n",
              "</style>\n",
              "<table border=\"1\" class=\"dataframe\">\n",
              "  <thead>\n",
              "    <tr style=\"text-align: right;\">\n",
              "      <th></th>\n",
              "      <th>Date</th>\n",
              "      <th>Rented Bike Count</th>\n",
              "      <th>Hour</th>\n",
              "      <th>Temperature(C)</th>\n",
              "      <th>Humidity(%)</th>\n",
              "      <th>Wind speed (m/s)</th>\n",
              "      <th>Visibility (10m)</th>\n",
              "      <th>Dew point temperature(C)</th>\n",
              "      <th>Solar Radiation (MJ/m2)</th>\n",
              "      <th>Rainfall(mm)</th>\n",
              "      <th>Snowfall (cm)</th>\n",
              "      <th>Seasons</th>\n",
              "      <th>Holiday</th>\n",
              "      <th>Functioning Day</th>\n",
              "    </tr>\n",
              "  </thead>\n",
              "  <tbody>\n",
              "    <tr>\n",
              "      <th>0</th>\n",
              "      <td>01/12/2017</td>\n",
              "      <td>254</td>\n",
              "      <td>0</td>\n",
              "      <td>-5.2</td>\n",
              "      <td>37</td>\n",
              "      <td>2.2</td>\n",
              "      <td>2000</td>\n",
              "      <td>-17.6</td>\n",
              "      <td>0.0</td>\n",
              "      <td>0.0</td>\n",
              "      <td>0.0</td>\n",
              "      <td>Winter</td>\n",
              "      <td>No Holiday</td>\n",
              "      <td>Yes</td>\n",
              "    </tr>\n",
              "    <tr>\n",
              "      <th>1</th>\n",
              "      <td>01/12/2017</td>\n",
              "      <td>204</td>\n",
              "      <td>1</td>\n",
              "      <td>-5.5</td>\n",
              "      <td>38</td>\n",
              "      <td>0.8</td>\n",
              "      <td>2000</td>\n",
              "      <td>-17.6</td>\n",
              "      <td>0.0</td>\n",
              "      <td>0.0</td>\n",
              "      <td>0.0</td>\n",
              "      <td>Winter</td>\n",
              "      <td>No Holiday</td>\n",
              "      <td>Yes</td>\n",
              "    </tr>\n",
              "    <tr>\n",
              "      <th>2</th>\n",
              "      <td>01/12/2017</td>\n",
              "      <td>173</td>\n",
              "      <td>2</td>\n",
              "      <td>-6.0</td>\n",
              "      <td>39</td>\n",
              "      <td>1.0</td>\n",
              "      <td>2000</td>\n",
              "      <td>-17.7</td>\n",
              "      <td>0.0</td>\n",
              "      <td>0.0</td>\n",
              "      <td>0.0</td>\n",
              "      <td>Winter</td>\n",
              "      <td>No Holiday</td>\n",
              "      <td>Yes</td>\n",
              "    </tr>\n",
              "    <tr>\n",
              "      <th>3</th>\n",
              "      <td>01/12/2017</td>\n",
              "      <td>107</td>\n",
              "      <td>3</td>\n",
              "      <td>-6.2</td>\n",
              "      <td>40</td>\n",
              "      <td>0.9</td>\n",
              "      <td>2000</td>\n",
              "      <td>-17.6</td>\n",
              "      <td>0.0</td>\n",
              "      <td>0.0</td>\n",
              "      <td>0.0</td>\n",
              "      <td>Winter</td>\n",
              "      <td>No Holiday</td>\n",
              "      <td>Yes</td>\n",
              "    </tr>\n",
              "    <tr>\n",
              "      <th>4</th>\n",
              "      <td>01/12/2017</td>\n",
              "      <td>78</td>\n",
              "      <td>4</td>\n",
              "      <td>-6.0</td>\n",
              "      <td>36</td>\n",
              "      <td>2.3</td>\n",
              "      <td>2000</td>\n",
              "      <td>-18.6</td>\n",
              "      <td>0.0</td>\n",
              "      <td>0.0</td>\n",
              "      <td>0.0</td>\n",
              "      <td>Winter</td>\n",
              "      <td>No Holiday</td>\n",
              "      <td>Yes</td>\n",
              "    </tr>\n",
              "  </tbody>\n",
              "</table>\n",
              "</div>"
            ],
            "text/plain": [
              "         Date  Rented Bike Count  Hour  ...  Seasons     Holiday  Functioning Day\n",
              "0  01/12/2017                254     0  ...   Winter  No Holiday              Yes\n",
              "1  01/12/2017                204     1  ...   Winter  No Holiday              Yes\n",
              "2  01/12/2017                173     2  ...   Winter  No Holiday              Yes\n",
              "3  01/12/2017                107     3  ...   Winter  No Holiday              Yes\n",
              "4  01/12/2017                 78     4  ...   Winter  No Holiday              Yes\n",
              "\n",
              "[5 rows x 14 columns]"
            ]
          },
          "metadata": {},
          "execution_count": 229
        }
      ]
    },
    {
      "cell_type": "code",
      "metadata": {
        "id": "7_oKYYhVdeH0",
        "colab": {
          "base_uri": "https://localhost:8080/"
        },
        "outputId": "1b040b81-a955-4ae8-a1cd-ff1da17d133e"
      },
      "source": [
        "#Missing Value Informtion\n",
        "miss_val = sbd.isna().sum()\n",
        "miss_val"
      ],
      "execution_count": 231,
      "outputs": [
        {
          "output_type": "execute_result",
          "data": {
            "text/plain": [
              "Date                        0\n",
              "Rented Bike Count           0\n",
              "Hour                        0\n",
              "Temperature(C)              0\n",
              "Humidity(%)                 0\n",
              "Wind speed (m/s)            0\n",
              "Visibility (10m)            0\n",
              "Dew point temperature(C)    0\n",
              "Solar Radiation (MJ/m2)     0\n",
              "Rainfall(mm)                0\n",
              "Snowfall (cm)               0\n",
              "Seasons                     0\n",
              "Holiday                     0\n",
              "Functioning Day             0\n",
              "dtype: int64"
            ]
          },
          "metadata": {},
          "execution_count": 231
        }
      ]
    },
    {
      "cell_type": "code",
      "metadata": {
        "colab": {
          "base_uri": "https://localhost:8080/",
          "height": 374
        },
        "id": "JjdseNSI9BMr",
        "outputId": "6cd67530-edba-4e75-e2b1-063752dcda7b"
      },
      "source": [
        "#Outliers Information for Rented Bike Count\n",
        "plt.figure(figsize=(6,6))\n",
        "plt.boxplot(sbd['Rented Bike Count'])\n",
        "plt.show()"
      ],
      "execution_count": 235,
      "outputs": [
        {
          "output_type": "display_data",
          "data": {
            "image/png": "[encoded data removed]",
            "text/plain": [
              "<Figure size 432x432 with 1 Axes>"
            ]
          },
          "metadata": {
            "needs_background": "light"
          }
        }
      ]
    },
    {
      "cell_type": "code",
      "metadata": {
        "colab": {
          "base_uri": "https://localhost:8080/"
        },
        "id": "GnkkDrQh-LvC",
        "outputId": "206ea7df-d5b1-4fdf-a452-e73b7e2432d0"
      },
      "source": [
        "q1 = np.percentile(sbd['Rented Bike Count'], 25, interpolation = 'midpoint')\n",
        "q3 = np.percentile(sbd['Rented Bike Count'], 75, interpolation = 'midpoint')\n",
        "iqr = q3-q1\n",
        "low_lmt = q1-(1.5*iqr)\n",
        "up_lmt = q3+(1.5*iqr)\n",
        "print(low_lmt)\n",
        "print(up_lmt)\n"
      ],
      "execution_count": 236,
      "outputs": [
        {
          "output_type": "stream",
          "name": "stdout",
          "text": [
            "-1120.75\n",
            "2377.25\n"
          ]
        }
      ]
    },
    {
      "cell_type": "code",
      "metadata": {
        "id": "N3oxKMPM_7vn"
      },
      "source": [
        "sbd = sbd[sbd['Rented Bike Count']<up_lmt]\n",
        "sbd = sbd[sbd['Rented Bike Count']>low_lmt]"
      ],
      "execution_count": 237,
      "outputs": []
    },
    {
      "cell_type": "code",
      "metadata": {
        "colab": {
          "base_uri": "https://localhost:8080/",
          "height": 374
        },
        "id": "w_lqitWmArBQ",
        "outputId": "fb746ff8-e040-4203-d50a-8e55c3cba90c"
      },
      "source": [
        "plt.figure(figsize=(6,6))\n",
        "plt.boxplot(sbd['Rented Bike Count'])\n",
        "plt.show()"
      ],
      "execution_count": 238,
      "outputs": [
        {
          "output_type": "display_data",
          "data": {
            "image/png": "[encoded data removed]",
            "text/plain": [
              "<Figure size 432x432 with 1 Axes>"
            ]
          },
          "metadata": {
            "needs_background": "light"
          }
        }
      ]
    },
    {
      "cell_type": "code",
      "metadata": {
        "colab": {
          "base_uri": "https://localhost:8080/",
          "height": 374
        },
        "id": "c1ucV7ydBhyA",
        "outputId": "5413379a-3b71-48dc-dca2-95044a923c35"
      },
      "source": [
        "#Outlier Information for Wind Speed\n",
        "plt.figure(figsize=(6,6))\n",
        "plt.boxplot(sbd['Wind speed (m/s)'])\n",
        "plt.show()"
      ],
      "execution_count": 239,
      "outputs": [
        {
          "output_type": "display_data",
          "data": {
            "image/png": "[encoded data removed]",
            "text/plain": [
              "<Figure size 432x432 with 1 Axes>"
            ]
          },
          "metadata": {
            "needs_background": "light"
          }
        }
      ]
    },
    {
      "cell_type": "code",
      "metadata": {
        "colab": {
          "base_uri": "https://localhost:8080/"
        },
        "id": "2Yki11bIBy-k",
        "outputId": "0c360036-6cbf-47a4-9135-f556fe16a707"
      },
      "source": [
        "q1 = np.percentile(sbd['Wind speed (m/s)'], 25, interpolation = 'midpoint')\n",
        "q3 = np.percentile(sbd['Wind speed (m/s)'], 75, interpolation = 'midpoint')\n",
        "iqr = q3-q1\n",
        "low_lmt = q1-(1.5*iqr)\n",
        "up_lmt = q3+(1.5*iqr)\n",
        "print(low_lmt)\n",
        "print(up_lmt)"
      ],
      "execution_count": 240,
      "outputs": [
        {
          "output_type": "stream",
          "name": "stdout",
          "text": [
            "-1.1999999999999997\n",
            "4.3999999999999995\n"
          ]
        }
      ]
    },
    {
      "cell_type": "code",
      "metadata": {
        "id": "3tsnSafHCCek"
      },
      "source": [
        "sbd = sbd[sbd['Wind speed (m/s)']<up_lmt]\n",
        "sbd = sbd[sbd['Wind speed (m/s)']>low_lmt]"
      ],
      "execution_count": 241,
      "outputs": []
    },
    {
      "cell_type": "code",
      "metadata": {
        "colab": {
          "base_uri": "https://localhost:8080/",
          "height": 374
        },
        "id": "VSk2IEyUCRL5",
        "outputId": "5d1b87ff-0601-485b-9172-b71282a9e4cf"
      },
      "source": [
        "plt.figure(figsize=(6,6))\n",
        "plt.boxplot(sbd['Wind speed (m/s)'])\n",
        "plt.show()"
      ],
      "execution_count": 242,
      "outputs": [
        {
          "output_type": "display_data",
          "data": {
            "image/png": "[encoded data removed]",
            "text/plain": [
              "<Figure size 432x432 with 1 Axes>"
            ]
          },
          "metadata": {
            "needs_background": "light"
          }
        }
      ]
    },
    {
      "cell_type": "code",
      "metadata": {
        "colab": {
          "base_uri": "https://localhost:8080/",
          "height": 374
        },
        "id": "4xM5yycICX_D",
        "outputId": "a48ddc50-98f3-4c67-ab90-bf7368c7dea7"
      },
      "source": [
        "#Outlier Information for Solar Radiation\n",
        "plt.figure(figsize=(6,6))\n",
        "plt.boxplot(sbd['Solar Radiation (MJ/m2)'])\n",
        "plt.show()"
      ],
      "execution_count": 243,
      "outputs": [
        {
          "output_type": "display_data",
          "data": {
            "image/png": "[encoded data removed]",
            "text/plain": [
              "<Figure size 432x432 with 1 Axes>"
            ]
          },
          "metadata": {
            "needs_background": "light"
          }
        }
      ]
    },
    {
      "cell_type": "code",
      "metadata": {
        "colab": {
          "base_uri": "https://localhost:8080/"
        },
        "id": "BLcG6zh2Cfsu",
        "outputId": "8769103f-3b3c-4250-9b5e-34fd6555a276"
      },
      "source": [
        "q1 = np.percentile(sbd['Solar Radiation (MJ/m2)'], 25, interpolation = 'midpoint')\n",
        "q3 = np.percentile(sbd['Solar Radiation (MJ/m2)'], 75, interpolation = 'midpoint')\n",
        "iqr = q3-q1\n",
        "low_lmt = q1-(1.5*iqr)\n",
        "up_lmt = q3+(1.5*iqr)\n",
        "print(low_lmt)\n",
        "print(up_lmt)"
      ],
      "execution_count": 244,
      "outputs": [
        {
          "output_type": "stream",
          "name": "stdout",
          "text": [
            "-1.35\n",
            "2.25\n"
          ]
        }
      ]
    },
    {
      "cell_type": "code",
      "metadata": {
        "id": "Rnre-XVWCz5B"
      },
      "source": [
        "sbd = sbd[sbd['Solar Radiation (MJ/m2)']<up_lmt]\n",
        "sbd = sbd[sbd['Solar Radiation (MJ/m2)']>low_lmt]"
      ],
      "execution_count": 245,
      "outputs": []
    },
    {
      "cell_type": "code",
      "metadata": {
        "colab": {
          "base_uri": "https://localhost:8080/",
          "height": 374
        },
        "id": "xa09HeDdC9NI",
        "outputId": "31f5c1f8-e00e-4181-9cb4-ec60d74190fb"
      },
      "source": [
        "plt.figure(figsize=(6,6))\n",
        "plt.boxplot(sbd['Solar Radiation (MJ/m2)'])\n",
        "plt.show()"
      ],
      "execution_count": 246,
      "outputs": [
        {
          "output_type": "display_data",
          "data": {
            "image/png": "[encoded data removed]",
            "text/plain": [
              "<Figure size 432x432 with 1 Axes>"
            ]
          },
          "metadata": {
            "needs_background": "light"
          }
        }
      ]
    },
    {
      "cell_type": "code",
      "metadata": {
        "id": "_tljGvphh0i5",
        "colab": {
          "base_uri": "https://localhost:8080/",
          "height": 450
        },
        "outputId": "461d42e4-9516-476c-9abe-6c6ac255d39c"
      },
      "source": [
        "#Correlation Matirx\n",
        "corr = sbd.corr()\n",
        "corr"
      ],
      "execution_count": 247,
      "outputs": [
        {
          "output_type": "execute_result",
          "data": {
            "text/html": [
              "<div>\n",
              "<style scoped>\n",
              "    .dataframe tbody tr th:only-of-type {\n",
              "        vertical-align: middle;\n",
              "    }\n",
              "\n",
              "    .dataframe tbody tr th {\n",
              "        vertical-align: top;\n",
              "    }\n",
              "\n",
              "    .dataframe thead th {\n",
              "        text-align: right;\n",
              "    }\n",
              "</style>\n",
              "<table border=\"1\" class=\"dataframe\">\n",
              "  <thead>\n",
              "    <tr style=\"text-align: right;\">\n",
              "      <th></th>\n",
              "      <th>Rented Bike Count</th>\n",
              "      <th>Hour</th>\n",
              "      <th>Temperature(C)</th>\n",
              "      <th>Humidity(%)</th>\n",
              "      <th>Wind speed (m/s)</th>\n",
              "      <th>Visibility (10m)</th>\n",
              "      <th>Dew point temperature(C)</th>\n",
              "      <th>Solar Radiation (MJ/m2)</th>\n",
              "      <th>Rainfall(mm)</th>\n",
              "      <th>Snowfall (cm)</th>\n",
              "    </tr>\n",
              "  </thead>\n",
              "  <tbody>\n",
              "    <tr>\n",
              "      <th>Rented Bike Count</th>\n",
              "      <td>1.000000</td>\n",
              "      <td>0.400517</td>\n",
              "      <td>0.533168</td>\n",
              "      <td>-0.162957</td>\n",
              "      <td>0.106349</td>\n",
              "      <td>0.188051</td>\n",
              "      <td>0.381486</td>\n",
              "      <td>0.248899</td>\n",
              "      <td>-0.125173</td>\n",
              "      <td>-0.140926</td>\n",
              "    </tr>\n",
              "    <tr>\n",
              "      <th>Hour</th>\n",
              "      <td>0.400517</td>\n",
              "      <td>1.000000</td>\n",
              "      <td>0.098512</td>\n",
              "      <td>-0.226957</td>\n",
              "      <td>0.279841</td>\n",
              "      <td>0.086136</td>\n",
              "      <td>-0.011491</td>\n",
              "      <td>0.144502</td>\n",
              "      <td>0.012919</td>\n",
              "      <td>-0.013805</td>\n",
              "    </tr>\n",
              "    <tr>\n",
              "      <th>Temperature(C)</th>\n",
              "      <td>0.533168</td>\n",
              "      <td>0.098512</td>\n",
              "      <td>1.000000</td>\n",
              "      <td>0.258581</td>\n",
              "      <td>-0.081031</td>\n",
              "      <td>0.004416</td>\n",
              "      <td>0.926904</td>\n",
              "      <td>0.246831</td>\n",
              "      <td>0.066321</td>\n",
              "      <td>-0.215724</td>\n",
              "    </tr>\n",
              "    <tr>\n",
              "      <th>Humidity(%)</th>\n",
              "      <td>-0.162957</td>\n",
              "      <td>-0.226957</td>\n",
              "      <td>0.258581</td>\n",
              "      <td>1.000000</td>\n",
              "      <td>-0.300416</td>\n",
              "      <td>-0.545389</td>\n",
              "      <td>0.591577</td>\n",
              "      <td>-0.389027</td>\n",
              "      <td>0.237412</td>\n",
              "      <td>0.098863</td>\n",
              "    </tr>\n",
              "    <tr>\n",
              "      <th>Wind speed (m/s)</th>\n",
              "      <td>0.106349</td>\n",
              "      <td>0.279841</td>\n",
              "      <td>-0.081031</td>\n",
              "      <td>-0.300416</td>\n",
              "      <td>1.000000</td>\n",
              "      <td>0.162613</td>\n",
              "      <td>-0.190484</td>\n",
              "      <td>0.287703</td>\n",
              "      <td>-0.014117</td>\n",
              "      <td>0.007440</td>\n",
              "    </tr>\n",
              "    <tr>\n",
              "      <th>Visibility (10m)</th>\n",
              "      <td>0.188051</td>\n",
              "      <td>0.086136</td>\n",
              "      <td>0.004416</td>\n",
              "      <td>-0.545389</td>\n",
              "      <td>0.162613</td>\n",
              "      <td>1.000000</td>\n",
              "      <td>-0.192794</td>\n",
              "      <td>0.114031</td>\n",
              "      <td>-0.166442</td>\n",
              "      <td>-0.119595</td>\n",
              "    </tr>\n",
              "    <tr>\n",
              "      <th>Dew point temperature(C)</th>\n",
              "      <td>0.381486</td>\n",
              "      <td>-0.011491</td>\n",
              "      <td>0.926904</td>\n",
              "      <td>0.591577</td>\n",
              "      <td>-0.190484</td>\n",
              "      <td>-0.192794</td>\n",
              "      <td>1.000000</td>\n",
              "      <td>0.040846</td>\n",
              "      <td>0.134135</td>\n",
              "      <td>-0.149055</td>\n",
              "    </tr>\n",
              "    <tr>\n",
              "      <th>Solar Radiation (MJ/m2)</th>\n",
              "      <td>0.248899</td>\n",
              "      <td>0.144502</td>\n",
              "      <td>0.246831</td>\n",
              "      <td>-0.389027</td>\n",
              "      <td>0.287703</td>\n",
              "      <td>0.114031</td>\n",
              "      <td>0.040846</td>\n",
              "      <td>1.000000</td>\n",
              "      <td>-0.066099</td>\n",
              "      <td>-0.050075</td>\n",
              "    </tr>\n",
              "    <tr>\n",
              "      <th>Rainfall(mm)</th>\n",
              "      <td>-0.125173</td>\n",
              "      <td>0.012919</td>\n",
              "      <td>0.066321</td>\n",
              "      <td>0.237412</td>\n",
              "      <td>-0.014117</td>\n",
              "      <td>-0.166442</td>\n",
              "      <td>0.134135</td>\n",
              "      <td>-0.066099</td>\n",
              "      <td>1.000000</td>\n",
              "      <td>0.006405</td>\n",
              "    </tr>\n",
              "    <tr>\n",
              "      <th>Snowfall (cm)</th>\n",
              "      <td>-0.140926</td>\n",
              "      <td>-0.013805</td>\n",
              "      <td>-0.215724</td>\n",
              "      <td>0.098863</td>\n",
              "      <td>0.007440</td>\n",
              "      <td>-0.119595</td>\n",
              "      <td>-0.149055</td>\n",
              "      <td>-0.050075</td>\n",
              "      <td>0.006405</td>\n",
              "      <td>1.000000</td>\n",
              "    </tr>\n",
              "  </tbody>\n",
              "</table>\n",
              "</div>"
            ],
            "text/plain": [
              "                          Rented Bike Count  ...  Snowfall (cm)\n",
              "Rented Bike Count                  1.000000  ...      -0.140926\n",
              "Hour                               0.400517  ...      -0.013805\n",
              "Temperature(C)                     0.533168  ...      -0.215724\n",
              "Humidity(%)                       -0.162957  ...       0.098863\n",
              "Wind speed (m/s)                   0.106349  ...       0.007440\n",
              "Visibility (10m)                   0.188051  ...      -0.119595\n",
              "Dew point temperature(C)           0.381486  ...      -0.149055\n",
              "Solar Radiation (MJ/m2)            0.248899  ...      -0.050075\n",
              "Rainfall(mm)                      -0.125173  ...       0.006405\n",
              "Snowfall (cm)                     -0.140926  ...       1.000000\n",
              "\n",
              "[10 rows x 10 columns]"
            ]
          },
          "metadata": {},
          "execution_count": 247
        }
      ]
    },
    {
      "cell_type": "code",
      "metadata": {
        "id": "CVxktfNHjzja",
        "colab": {
          "base_uri": "https://localhost:8080/",
          "height": 569
        },
        "outputId": "37c54517-f806-4484-d16b-44710585c1a7"
      },
      "source": [
        "#Correlation Heatmap\n",
        "corr = sbd.corr()\n",
        "plt.figure(figsize=(8,8))\n",
        "sns.heatmap(corr, annot=True, cmap='cubehelix_r',square=True) \n",
        "plt.show()"
      ],
      "execution_count": 248,
      "outputs": [
        {
          "output_type": "display_data",
          "data": {
            "image/png": "[encoded data removed]",
            "text/plain": [
              "<Figure size 576x576 with 2 Axes>"
            ]
          },
          "metadata": {
            "needs_background": "light"
          }
        }
      ]
    },
    {
      "cell_type": "code",
      "metadata": {
        "id": "90zX3Fs6F1z4"
      },
      "source": [
        "#Drop Date Column\n",
        "sbd = sbd.drop(['Date'], axis=1)"
      ],
      "execution_count": 249,
      "outputs": []
    },
    {
      "cell_type": "code",
      "metadata": {
        "colab": {
          "base_uri": "https://localhost:8080/",
          "height": 327
        },
        "id": "a9r-ubokJz3m",
        "outputId": "857e17e1-0e79-4df1-deec-c0f5b6a73341"
      },
      "source": [
        "#Verify Dataframe tail information\n",
        "sbd.tail()\n",
        "df=sbd\n",
        "df.head()"
      ],
      "execution_count": 255,
      "outputs": [
        {
          "output_type": "execute_result",
          "data": {
            "text/html": [
              "<div>\n",
              "<style scoped>\n",
              "    .dataframe tbody tr th:only-of-type {\n",
              "        vertical-align: middle;\n",
              "    }\n",
              "\n",
              "    .dataframe tbody tr th {\n",
              "        vertical-align: top;\n",
              "    }\n",
              "\n",
              "    .dataframe thead th {\n",
              "        text-align: right;\n",
              "    }\n",
              "</style>\n",
              "<table border=\"1\" class=\"dataframe\">\n",
              "  <thead>\n",
              "    <tr style=\"text-align: right;\">\n",
              "      <th></th>\n",
              "      <th>Rented Bike Count</th>\n",
              "      <th>Hour</th>\n",
              "      <th>Temperature(C)</th>\n",
              "      <th>Humidity(%)</th>\n",
              "      <th>Wind speed (m/s)</th>\n",
              "      <th>Visibility (10m)</th>\n",
              "      <th>Dew point temperature(C)</th>\n",
              "      <th>Solar Radiation (MJ/m2)</th>\n",
              "      <th>Rainfall(mm)</th>\n",
              "      <th>Snowfall (cm)</th>\n",
              "      <th>Seasons</th>\n",
              "      <th>Holiday</th>\n",
              "      <th>Functioning Day</th>\n",
              "    </tr>\n",
              "  </thead>\n",
              "  <tbody>\n",
              "    <tr>\n",
              "      <th>0</th>\n",
              "      <td>254</td>\n",
              "      <td>0</td>\n",
              "      <td>-5.2</td>\n",
              "      <td>37</td>\n",
              "      <td>2.2</td>\n",
              "      <td>2000</td>\n",
              "      <td>-17.6</td>\n",
              "      <td>0.0</td>\n",
              "      <td>0.0</td>\n",
              "      <td>0.0</td>\n",
              "      <td>Winter</td>\n",
              "      <td>No Holiday</td>\n",
              "      <td>Yes</td>\n",
              "    </tr>\n",
              "    <tr>\n",
              "      <th>1</th>\n",
              "      <td>204</td>\n",
              "      <td>1</td>\n",
              "      <td>-5.5</td>\n",
              "      <td>38</td>\n",
              "      <td>0.8</td>\n",
              "      <td>2000</td>\n",
              "      <td>-17.6</td>\n",
              "      <td>0.0</td>\n",
              "      <td>0.0</td>\n",
              "      <td>0.0</td>\n",
              "      <td>Winter</td>\n",
              "      <td>No Holiday</td>\n",
              "      <td>Yes</td>\n",
              "    </tr>\n",
              "    <tr>\n",
              "      <th>2</th>\n",
              "      <td>173</td>\n",
              "      <td>2</td>\n",
              "      <td>-6.0</td>\n",
              "      <td>39</td>\n",
              "      <td>1.0</td>\n",
              "      <td>2000</td>\n",
              "      <td>-17.7</td>\n",
              "      <td>0.0</td>\n",
              "      <td>0.0</td>\n",
              "      <td>0.0</td>\n",
              "      <td>Winter</td>\n",
              "      <td>No Holiday</td>\n",
              "      <td>Yes</td>\n",
              "    </tr>\n",
              "    <tr>\n",
              "      <th>3</th>\n",
              "      <td>107</td>\n",
              "      <td>3</td>\n",
              "      <td>-6.2</td>\n",
              "      <td>40</td>\n",
              "      <td>0.9</td>\n",
              "      <td>2000</td>\n",
              "      <td>-17.6</td>\n",
              "      <td>0.0</td>\n",
              "      <td>0.0</td>\n",
              "      <td>0.0</td>\n",
              "      <td>Winter</td>\n",
              "      <td>No Holiday</td>\n",
              "      <td>Yes</td>\n",
              "    </tr>\n",
              "    <tr>\n",
              "      <th>4</th>\n",
              "      <td>78</td>\n",
              "      <td>4</td>\n",
              "      <td>-6.0</td>\n",
              "      <td>36</td>\n",
              "      <td>2.3</td>\n",
              "      <td>2000</td>\n",
              "      <td>-18.6</td>\n",
              "      <td>0.0</td>\n",
              "      <td>0.0</td>\n",
              "      <td>0.0</td>\n",
              "      <td>Winter</td>\n",
              "      <td>No Holiday</td>\n",
              "      <td>Yes</td>\n",
              "    </tr>\n",
              "  </tbody>\n",
              "</table>\n",
              "</div>"
            ],
            "text/plain": [
              "   Rented Bike Count  Hour  Temperature(C)  ...  Seasons     Holiday  Functioning Day\n",
              "0                254     0            -5.2  ...   Winter  No Holiday              Yes\n",
              "1                204     1            -5.5  ...   Winter  No Holiday              Yes\n",
              "2                173     2            -6.0  ...   Winter  No Holiday              Yes\n",
              "3                107     3            -6.2  ...   Winter  No Holiday              Yes\n",
              "4                 78     4            -6.0  ...   Winter  No Holiday              Yes\n",
              "\n",
              "[5 rows x 13 columns]"
            ]
          },
          "metadata": {},
          "execution_count": 255
        }
      ]
    },
    {
      "cell_type": "code",
      "metadata": {
        "id": "gLTmPESKEMhn"
      },
      "source": [
        "# Label Encoder for dummy variables\n",
        "from sklearn.preprocessing import LabelEncoder\n",
        "en = LabelEncoder()\n",
        "df['Seasons'] = en.fit_transform(df['Seasons'])\n",
        "df['Holiday'] = en.fit_transform(df['Holiday'])\n",
        "df['Functioning Day'] = en.fit_transform(df['Functioning Day'])"
      ],
      "execution_count": 257,
      "outputs": []
    },
    {
      "cell_type": "code",
      "metadata": {
        "colab": {
          "base_uri": "https://localhost:8080/",
          "height": 241
        },
        "id": "yXo-yPBaFObX",
        "outputId": "a2de2911-460f-4a58-e928-225b39181a93"
      },
      "source": [
        "#df = df.drop(['Holiday', 'Functioning Day'], axis=1)\n",
        "df.head()"
      ],
      "execution_count": 258,
      "outputs": [
        {
          "output_type": "execute_result",
          "data": {
            "text/html": [
              "<div>\n",
              "<style scoped>\n",
              "    .dataframe tbody tr th:only-of-type {\n",
              "        vertical-align: middle;\n",
              "    }\n",
              "\n",
              "    .dataframe tbody tr th {\n",
              "        vertical-align: top;\n",
              "    }\n",
              "\n",
              "    .dataframe thead th {\n",
              "        text-align: right;\n",
              "    }\n",
              "</style>\n",
              "<table border=\"1\" class=\"dataframe\">\n",
              "  <thead>\n",
              "    <tr style=\"text-align: right;\">\n",
              "      <th></th>\n",
              "      <th>Rented Bike Count</th>\n",
              "      <th>Hour</th>\n",
              "      <th>Temperature(C)</th>\n",
              "      <th>Humidity(%)</th>\n",
              "      <th>Wind speed (m/s)</th>\n",
              "      <th>Visibility (10m)</th>\n",
              "      <th>Dew point temperature(C)</th>\n",
              "      <th>Solar Radiation (MJ/m2)</th>\n",
              "      <th>Rainfall(mm)</th>\n",
              "      <th>Snowfall (cm)</th>\n",
              "      <th>Seasons</th>\n",
              "      <th>Holiday</th>\n",
              "      <th>Functioning Day</th>\n",
              "    </tr>\n",
              "  </thead>\n",
              "  <tbody>\n",
              "    <tr>\n",
              "      <th>0</th>\n",
              "      <td>254</td>\n",
              "      <td>0</td>\n",
              "      <td>-5.2</td>\n",
              "      <td>37</td>\n",
              "      <td>2.2</td>\n",
              "      <td>2000</td>\n",
              "      <td>-17.6</td>\n",
              "      <td>0.0</td>\n",
              "      <td>0.0</td>\n",
              "      <td>0.0</td>\n",
              "      <td>3</td>\n",
              "      <td>1</td>\n",
              "      <td>1</td>\n",
              "    </tr>\n",
              "    <tr>\n",
              "      <th>1</th>\n",
              "      <td>204</td>\n",
              "      <td>1</td>\n",
              "      <td>-5.5</td>\n",
              "      <td>38</td>\n",
              "      <td>0.8</td>\n",
              "      <td>2000</td>\n",
              "      <td>-17.6</td>\n",
              "      <td>0.0</td>\n",
              "      <td>0.0</td>\n",
              "      <td>0.0</td>\n",
              "      <td>3</td>\n",
              "      <td>1</td>\n",
              "      <td>1</td>\n",
              "    </tr>\n",
              "    <tr>\n",
              "      <th>2</th>\n",
              "      <td>173</td>\n",
              "      <td>2</td>\n",
              "      <td>-6.0</td>\n",
              "      <td>39</td>\n",
              "      <td>1.0</td>\n",
              "      <td>2000</td>\n",
              "      <td>-17.7</td>\n",
              "      <td>0.0</td>\n",
              "      <td>0.0</td>\n",
              "      <td>0.0</td>\n",
              "      <td>3</td>\n",
              "      <td>1</td>\n",
              "      <td>1</td>\n",
              "    </tr>\n",
              "    <tr>\n",
              "      <th>3</th>\n",
              "      <td>107</td>\n",
              "      <td>3</td>\n",
              "      <td>-6.2</td>\n",
              "      <td>40</td>\n",
              "      <td>0.9</td>\n",
              "      <td>2000</td>\n",
              "      <td>-17.6</td>\n",
              "      <td>0.0</td>\n",
              "      <td>0.0</td>\n",
              "      <td>0.0</td>\n",
              "      <td>3</td>\n",
              "      <td>1</td>\n",
              "      <td>1</td>\n",
              "    </tr>\n",
              "    <tr>\n",
              "      <th>4</th>\n",
              "      <td>78</td>\n",
              "      <td>4</td>\n",
              "      <td>-6.0</td>\n",
              "      <td>36</td>\n",
              "      <td>2.3</td>\n",
              "      <td>2000</td>\n",
              "      <td>-18.6</td>\n",
              "      <td>0.0</td>\n",
              "      <td>0.0</td>\n",
              "      <td>0.0</td>\n",
              "      <td>3</td>\n",
              "      <td>1</td>\n",
              "      <td>1</td>\n",
              "    </tr>\n",
              "  </tbody>\n",
              "</table>\n",
              "</div>"
            ],
            "text/plain": [
              "   Rented Bike Count  Hour  Temperature(C)  ...  Seasons  Holiday  Functioning Day\n",
              "0                254     0            -5.2  ...        3        1                1\n",
              "1                204     1            -5.5  ...        3        1                1\n",
              "2                173     2            -6.0  ...        3        1                1\n",
              "3                107     3            -6.2  ...        3        1                1\n",
              "4                 78     4            -6.0  ...        3        1                1\n",
              "\n",
              "[5 rows x 13 columns]"
            ]
          },
          "metadata": {},
          "execution_count": 258
        }
      ]
    },
    {
      "cell_type": "code",
      "metadata": {
        "id": "vsHwa9ajKFHf",
        "colab": {
          "base_uri": "https://localhost:8080/"
        },
        "outputId": "403da982-1149-403a-fdae-0b4ad469655b"
      },
      "source": [
        "#Correlation Mean\n",
        "corr.mean()"
      ],
      "execution_count": 260,
      "outputs": [
        {
          "output_type": "execute_result",
          "data": {
            "text/plain": [
              "Rented Bike Count           0.242941\n",
              "Hour                        0.177017\n",
              "Temperature(C)              0.283798\n",
              "Humidity(%)                 0.056169\n",
              "Wind speed (m/s)            0.125790\n",
              "Visibility (10m)            0.053103\n",
              "Dew point temperature(C)    0.253112\n",
              "Solar Radiation (MJ/m2)     0.157761\n",
              "Rainfall(mm)                0.108536\n",
              "Snowfall (cm)               0.042353\n",
              "dtype: float64"
            ]
          },
          "metadata": {},
          "execution_count": 260
        }
      ]
    },
    {
      "cell_type": "code",
      "metadata": {
        "id": "Bw_lRsSf7s84"
      },
      "source": [
        "#Train and Test data split with test size 0.25\n",
        "from sklearn.model_selection import train_test_split \n",
        "df, val = train_test_split(df, test_size =0.25, random_state = 40)"
      ],
      "execution_count": 261,
      "outputs": []
    },
    {
      "cell_type": "code",
      "metadata": {
        "id": "t9YrEZAQdEeD",
        "colab": {
          "base_uri": "https://localhost:8080/"
        },
        "outputId": "cc9a4d8c-7703-4cf4-84bb-0aa5ee6e1386"
      },
      "source": [
        "df_x = df.drop(['Rented Bike Count'], axis = 1)\n",
        "df_y = df['Rented Bike Count']             \n",
        "\n",
        "val_x = val.drop(['Rented Bike Count'], axis = 1)\n",
        "val_y = val['Rented Bike Count']\n",
        "\n",
        "print('Dimension of SeoulBikeData_x dataframe:',df_x.shape)\n",
        "print('Dimension of SeoulBikeData_y dataframe:',df_y.shape)\n",
        "print('Dimension of val_x dataframe:',val_x.shape)\n",
        "print('Dimension of val_y dataframe:',val_y.shape)"
      ],
      "execution_count": 262,
      "outputs": [
        {
          "output_type": "stream",
          "name": "stdout",
          "text": [
            "Dimension of SeoulBikeData_x dataframe: (5814, 12)\n",
            "Dimension of SeoulBikeData_y dataframe: (5814,)\n",
            "Dimension of val_x dataframe: (1938, 12)\n",
            "Dimension of val_y dataframe: (1938,)\n"
          ]
        }
      ]
    },
    {
      "cell_type": "code",
      "metadata": {
        "id": "GbKMdNacYxs5",
        "colab": {
          "base_uri": "https://localhost:8080/"
        },
        "outputId": "8bb2bff8-2cf6-4f69-e743-a9d94a3b23cf"
      },
      "source": [
        "print(df_x)"
      ],
      "execution_count": 263,
      "outputs": [
        {
          "output_type": "stream",
          "name": "stdout",
          "text": [
            "      Hour  Temperature(C)  Humidity(%)  ...  Seasons  Holiday  Functioning Day\n",
            "2296    16            10.6           26  ...        1        1                1\n",
            "889      1            -3.9           51  ...        3        1                1\n",
            "6622    22            25.7           64  ...        0        1                1\n",
            "220      4             0.4           52  ...        3        1                1\n",
            "334     22            -4.9           44  ...        3        1                1\n",
            "...    ...             ...          ...  ...      ...      ...              ...\n",
            "3304    16            19.5           28  ...        1        1                1\n",
            "7235    11            17.9           54  ...        0        1                0\n",
            "7051    19            18.9           78  ...        0        1                1\n",
            "7299     3            13.6           56  ...        0        1                1\n",
            "3704     8            11.3           46  ...        1        1                1\n",
            "\n",
            "[5814 rows x 12 columns]\n"
          ]
        }
      ]
    },
    {
      "cell_type": "code",
      "metadata": {
        "id": "wlLc2Zhjnsqg",
        "colab": {
          "base_uri": "https://localhost:8080/"
        },
        "outputId": "abcfde78-3732-445d-8992-f5354094d6e2"
      },
      "source": [
        "#Linear Regression\n",
        "from sklearn.linear_model import LinearRegression\n",
        "ln_reg = LinearRegression()\n",
        "ln_reg.fit(df_x, df_y)"
      ],
      "execution_count": 264,
      "outputs": [
        {
          "output_type": "execute_result",
          "data": {
            "text/plain": [
              "LinearRegression()"
            ]
          },
          "metadata": {},
          "execution_count": 264
        }
      ]
    },
    {
      "cell_type": "code",
      "metadata": {
        "id": "Ei_9-gnAoCCE",
        "colab": {
          "base_uri": "https://localhost:8080/"
        },
        "outputId": "3fa96fdc-3f5e-4ccb-e33c-baeb730df8d6"
      },
      "source": [
        "# Mean Absolute, Mean Square Error, R_square score information\n",
        "from sklearn.metrics import mean_squared_error, mean_absolute_error, r2_score\n",
        "df_pred = ln_reg.predict(val_x)\n",
        "print('Mean Absolute Error of linear regression:',mean_absolute_error(df_pred, val_y))\n",
        "print('Mean Square Error of linear regression:', mean_squared_error(df_pred, val_y))\n",
        "print('R_Squared Score of linear regression:', r2_score(val_y, df_pred))"
      ],
      "execution_count": 265,
      "outputs": [
        {
          "output_type": "stream",
          "name": "stdout",
          "text": [
            "Mean Absolute Error of linear regression: 299.5640387595413\n",
            "Mean Square Error of linear regression: 151232.89424508932\n",
            "R_Squared Score of linear regression: 0.561982571482591\n"
          ]
        }
      ]
    },
    {
      "cell_type": "code",
      "metadata": {
        "id": "FsqzfxR9FtkP",
        "colab": {
          "base_uri": "https://localhost:8080/"
        },
        "outputId": "049ac250-306e-4a49-a511-bbddad02a079"
      },
      "source": [
        "#Model Accuracy\n",
        "lr = ln_reg.score(df_x, df_y)\n",
        "print('Accuracy of the model :', lr)\n",
        "print('Model coefficients :', ln_reg.coef_)\n",
        "print('Model intercept value :', ln_reg.intercept_)\n"
      ],
      "execution_count": 266,
      "outputs": [
        {
          "output_type": "stream",
          "name": "stdout",
          "text": [
            "Accuracy of the model : 0.5561871212351037\n",
            "Model coefficients : [ 2.52327192e+01  1.80028092e+01 -8.74326444e+00  1.80772830e+01\n",
            "  2.81716967e-02  1.00361983e+01 -3.07970089e+01 -5.90471699e+01\n",
            "  2.12608819e+01 -9.14540811e+01  1.29196960e+02  9.10573459e+02]\n",
            "Model intercept value : -272.781991955149\n"
          ]
        }
      ]
    }
  ]
}